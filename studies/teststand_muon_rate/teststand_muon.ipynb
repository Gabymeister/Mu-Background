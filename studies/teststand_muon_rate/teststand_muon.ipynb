{
 "cells": [
  {
   "cell_type": "code",
   "execution_count": 1,
   "id": "0b1013a4-93db-4ceb-85d6-6014b184084e",
   "metadata": {},
   "outputs": [
    {
     "name": "stdout",
     "output_type": "stream",
     "text": [
      "Welcome to JupyROOT 6.28/10\n"
     ]
    }
   ],
   "source": [
    "import pickle, joblib\n",
    "import numpy as np\n",
    "from matplotlib.pyplot import *\n",
    "import ROOT\n",
    "import uproot\n",
    "from tqdm import tqdm\n",
    "from importlib import reload\n",
    "\n",
    "import copy\n",
    "import glob\n",
    "from collections import namedtuple\n",
    "particle = namedtuple('particle', ['X_S', 'Y_S', 'Z_S', 'X_END_S', 'Y_END_S', 'Z_END_S', 'PX_S', 'PY_S', 'PZ_S', 'PDG', 'TRACK', 'TRACK_PARENT', \"TRACK_STATUS\", 'entry'])\n",
    "\n",
    "from muhelper.helper_pytracker import visualization\n",
    "import muhelper\n",
    "import tracker\n",
    "%matplotlib inline"
   ]
  },
  {
   "cell_type": "code",
   "execution_count": 2,
   "id": "da8a07ed-a80e-431c-83bc-c2b69d9204e3",
   "metadata": {},
   "outputs": [],
   "source": [
    "from tqdm import tqdm"
   ]
  },
  {
   "cell_type": "code",
   "execution_count": 3,
   "id": "ed90a0db-d6a7-4130-8981-98780101078d",
   "metadata": {},
   "outputs": [
    {
     "name": "stdout",
     "output_type": "stream",
     "text": [
      "Muon rate [Hz]: 2444.947859868359\n",
      "Effective time of simulation [s]:  147.2424037784524\n"
     ]
    }
   ],
   "source": [
    "# Total flux 0.00635307 [/cm2/s]\n",
    "# Area radius: 350 cm\n",
    "sim_rate = np.pi*350**2*0.00635307\n",
    "sim_events = 360000\n",
    "sim_time = sim_events/sim_rate\n",
    "print(\"Muon rate [Hz]:\", sim_rate)\n",
    "print(\"Effective time of simulation [s]: \", sim_time)"
   ]
  },
  {
   "cell_type": "code",
   "execution_count": 5,
   "id": "0ae75bfc-fe48-453c-8631-912eba0bde73",
   "metadata": {},
   "outputs": [],
   "source": [
    "# Cut range for each layer [xlow, xhigh, zlow, zhigh]\n",
    "# Direction: layer 4, z is perpendicular to the bar, z is short side\n",
    "llength = 100/2\n",
    "slength = 80/2\n",
    "zoffset=9000\n",
    "cut_range={4:[-llength, llength, -slength+zoffset, slength+zoffset],\n",
    "           6:[-slength, slength, -llength+zoffset, llength+zoffset],\n",
    "           7:[-llength, llength, -slength+zoffset, slength+zoffset],\n",
    "           8:[-slength, slength, -llength+zoffset, llength+zoffset]}"
   ]
  },
  {
   "cell_type": "code",
   "execution_count": 6,
   "id": "c6e52efa-1584-4025-abb4-8ddec373a529",
   "metadata": {},
   "outputs": [
    {
     "name": "stdout",
     "output_type": "stream",
     "text": [
      "Entries: 343116\n",
      "['NumHits', 'Hit_energy', 'Hit_time', 'Hit_Center1', 'Hit_Center2', 'Hit_bar_direction', 'Hit_layer_direction', 'Hit_LayerID', 'Hit_particlePdgId', 'Hit_G4TrackId', 'Hit_G4ParentTrackId', 'Hit_x', 'Hit_y', 'Hit_z', 'Hit_particleEnergy', 'Hit_particlePx', 'Hit_particlePy', 'Hit_particlePz', 'Hit_type', 'Digi_numHits', 'Digi_time', 'Digi_x', 'Digi_y', 'Digi_z', 'Digi_energy', 'Digi_px', 'Digi_py', 'Digi_pz', 'Digi_particle_energy', 'Digi_pdg_id', 'Digi_track_id', 'Digi_type', 'Digi_center1', 'Digi_center2', 'Digi_bar_direction', 'Digi_layer_direction', 'Digi_layer_id', 'Digi_det_id', 'Digi_seed', 'Digi_hitIndices', 'GenParticle_index', 'GenParticle_G4index', 'GenParticle_pdgid', 'GenParticle_time', 'GenParticle_x', 'GenParticle_y', 'GenParticle_z', 'GenParticle_energy', 'GenParticle_px', 'GenParticle_py', 'GenParticle_pz', 'GenParticle_mass']\n"
     ]
    }
   ],
   "source": [
    "filename = \"/project/rrg-mdiamond/data/MATHUSLA/simulation/run-2024-07-teststand/DigiOutput/cosmic_run_0/0/stat0.root\"\n",
    "tfile = ROOT.TFile.Open(filename)\n",
    "tree_names = [i.GetName() for i in  tfile.GetListOfKeys()]\n",
    "ttree = tfile.Get(tree_names[0])\n",
    "tentries = ttree.GetEntries()\n",
    "branches = [ttree.GetListOfBranches()[i].GetName() for i in range(len(ttree.GetListOfBranches()))]\n",
    "\n",
    "print(\"Entries:\", tentries)\n",
    "print(branches)"
   ]
  },
  {
   "cell_type": "code",
   "execution_count": 7,
   "id": "5e142e7b-49b8-409e-a4e1-fe16dac83721",
   "metadata": {},
   "outputs": [
    {
     "name": "stderr",
     "output_type": "stream",
     "text": [
      "100%|██████████| 343116/343116 [01:16<00:00, 4506.34it/s]\n"
     ]
    }
   ],
   "source": [
    "valid_event_hits = []\n",
    "for ev in tqdm(range(tentries)):\n",
    "    ttree.GetEntry(ev)\n",
    "    validhits=0\n",
    "    \n",
    "    for i in range(len(ttree.Digi_x)):\n",
    "        if ttree.Digi_layer_id[i] in list(cut_range.keys()):\n",
    "            cut=cut_range[ttree.Digi_layer_id[i]]\n",
    "            if (ttree.Digi_x[i]>cut[0])&(ttree.Digi_x[i]<cut[1])&(ttree.Digi_z[i]>cut[2])&(ttree.Digi_z[i]<cut[3])&(ttree.Digi_track_id[i]==1):\n",
    "                validhits+=1\n",
    "    if validhits>=3:\n",
    "        valid_event_hits.append(validhits)"
   ]
  },
  {
   "cell_type": "code",
   "execution_count": 11,
   "id": "2ae4a3c9-801e-4a61-8fe4-e0cd9c7f0e2d",
   "metadata": {},
   "outputs": [
    {
     "name": "stdout",
     "output_type": "stream",
     "text": [
      "Expected events per hour 44962.59114297912\n"
     ]
    }
   ],
   "source": [
    "len(valid_event_hits)\n",
    "expected_events_per_hour = len(valid_event_hits)/sim_time*3600\n",
    "print(\"Expected events per hour\", expected_events_per_hour)"
   ]
  },
  {
   "cell_type": "code",
   "execution_count": 10,
   "id": "1a029296-8af1-4d3d-9151-6d7794f2fc2b",
   "metadata": {},
   "outputs": [
    {
     "name": "stdout",
     "output_type": "stream",
     "text": [
      "[1348.    0.    0.    0.    0.    0.    0.    0.    0.    0.  484.    0.\n",
      "    0.    0.    0.    0.    0.    0.    0.    7.]\n"
     ]
    },
    {
     "data": {
      "text/plain": [
       "Text(0.5, 0, 'Number of hits')"
      ]
     },
     "execution_count": 10,
     "metadata": {},
     "output_type": "execute_result"
    },
    {
     "data": {
      "image/png": "[encoded data removed]",
      "text/plain": [
       "<Figure size 640x480 with 1 Axes>"
      ]
     },
     "metadata": {},
     "output_type": "display_data"
    }
   ],
   "source": [
    "n,ibins, *_=hist(valid_event_hits, bins=20);\n",
    "print(n)\n",
    "xlabel(\"Number of hits\")\n"
   ]
  },
  {
   "cell_type": "code",
   "execution_count": 32,
   "id": "5500aedf-f9b5-49ad-8f08-642a9b24e296",
   "metadata": {},
   "outputs": [],
   "source": [
    "# filename = \"/project/rrg-mdiamond/data/MATHUSLA/simulation/run-2024-07-teststand/DigiOutput/cosmic_run_0/0/stat0.pkl\"\n",
    "# data=joblib.load(filename)\n",
    "\n",
    "# x,y,z, layer=[],[],[],[]\n",
    "# for ev in data[\"hits\"]:\n",
    "#     for hit in ev:\n",
    "#         x.append(hit.x)\n",
    "#         y.append(hit.y)\n",
    "#         z.append(hit.z)\n",
    "#         layer.append(hit.layer)\n",
    "        \n",
    "# x = np.array(x)\n",
    "# layer=np.array(layer)\n",
    "\n",
    "# hist(x[layer==5], bins=100, range=(0,300));\n",
    "# show()\n",
    "# scatter(z,x, alpha=0.1)\n",
    "# show()\n",
    "# scatter(y, layer)\n",
    "# xlim(8547, 9000)\n",
    "# show()\n",
    "\n"
   ]
  }
 ],
 "metadata": {
  "kernelspec": {
   "display_name": "SCDMS V05-02",
   "language": "python",
   "name": "scdms_v05-02"
  },
  "language_info": {
   "codemirror_mode": {
    "name": "ipython",
    "version": 3
   },
   "file_extension": ".py",
   "mimetype": "text/x-python",
   "name": "python",
   "nbconvert_exporter": "python",
   "pygments_lexer": "ipython3",
   "version": "3.10.12"
  }
 },
 "nbformat": 4,
 "nbformat_minor": 5
}
